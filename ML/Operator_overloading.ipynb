{
 "cells": [
  {
   "cell_type": "markdown",
   "metadata": {},
   "source": [
    "### operator overloading"
   ]
  },
  {
   "cell_type": "code",
   "execution_count": 84,
   "metadata": {},
   "outputs": [
    {
     "name": "stdout",
     "output_type": "stream",
     "text": [
      "<class 'int'>\n",
      "10\n",
      "24\n"
     ]
    },
    {
     "data": {
      "text/plain": [
       "[2, 16]"
      ]
     },
     "execution_count": 84,
     "metadata": {},
     "output_type": "execute_result"
    }
   ],
   "source": [
    "class MyNumber():\n",
    "    def __init__(self,num):\n",
    "           self.num=num\n",
    "        \n",
    "    def __add__(self, other):\n",
    "        \n",
    "        \"\"\"\n",
    "        sum opetor\n",
    "        \"\"\"\n",
    "        return MyNumber(self.num+other.num)   \n",
    "    \n",
    "    def __str__(self):\n",
    "        return str(self.num)\n",
    "    \n",
    "    def __mul__(self, other):\n",
    "        \"\"\"\n",
    "        mutiplication opearot\n",
    "        \"\"\"\n",
    "        return MyNumber(self.num*other.num)\n",
    "    \n",
    "a = MyNumber(4)\n",
    "b = MyNumber(6)\n",
    "print(type(2))\n",
    "print(a+b)\n",
    "print(a*b)\n",
    "\n",
    "\n",
    "class MyList():\n",
    "    def __init__(self,list):\n",
    "        if type(list) != type([]):\n",
    "            raise ValueError('The variable must to be from type list not from type {} ' .format(type(list)))\n",
    "\n",
    "        self.list=list\n",
    "        \n",
    "    def __str__(self):\n",
    "        return str(self.list)\n",
    "    \n",
    "    def __add__(self, other):\n",
    "        \n",
    "        \"\"\"\n",
    "        sum opetor\n",
    "        \"\"\"\n",
    "        return [self.list[i] + other.list[i] for i in range(len(self.list))]  \n",
    " \n",
    "    \n",
    "    def __mul__(self, other):\n",
    "        \"\"\"\n",
    "        mutiplication opearot\n",
    "        \"\"\"\n",
    "        \n",
    "        if type(other)==type(self):\n",
    "            return [self.list[i]*other.list[i] for i in range(len(self.list))]  \n",
    "        elif type(other)==type([]): \n",
    "            return [self.list[i]*other[i] for i in range(len(self.list))]   \n",
    "     \n",
    "        return [self.list[i]*float(other) for i in range(len(self.list))]    \n",
    "\n",
    "        \n",
    "ls = MyList([2,4])   \n",
    "ls2 = MyList([1,4])\n",
    "\n",
    "ls*ls2"
   ]
  },
  {
   "cell_type": "code",
   "execution_count": 87,
   "metadata": {},
   "outputs": [
    {
     "name": "stdout",
     "output_type": "stream",
     "text": [
      "[4, 4]\n",
      "[5.0, 20.0]\n"
     ]
    },
    {
     "data": {
      "text/plain": [
       "False"
      ]
     },
     "execution_count": 87,
     "metadata": {},
     "output_type": "execute_result"
    }
   ],
   "source": [
    "z = lambda x,y : (x + y)\n",
    "\n",
    "z(ls,ls2)\n",
    "\n",
    "print(ls*[2,1])\n",
    "print(ls2*5)\n",
    "type(5)==type(int)"
   ]
  }
 ],
 "metadata": {
  "kernelspec": {
   "display_name": "Python 3",
   "language": "python",
   "name": "python3"
  },
  "language_info": {
   "codemirror_mode": {
    "name": "ipython",
    "version": 3
   },
   "file_extension": ".py",
   "mimetype": "text/x-python",
   "name": "python",
   "nbconvert_exporter": "python",
   "pygments_lexer": "ipython3",
   "version": "3.7.1"
  }
 },
 "nbformat": 4,
 "nbformat_minor": 2
}
