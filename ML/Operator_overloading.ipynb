{
 "cells": [
  {
   "cell_type": "markdown",
   "metadata": {},
   "source": [
    "### operator overloading"
   ]
  },
  {
   "cell_type": "code",
   "execution_count": 120,
   "metadata": {},
   "outputs": [
    {
     "name": "stdout",
     "output_type": "stream",
     "text": [
      "<class 'int'>\n",
      "10\n",
      "24\n"
     ]
    },
    {
     "ename": "TypeError",
     "evalue": "'MyList' object is not iterable",
     "output_type": "error",
     "traceback": [
      "\u001b[1;31m---------------------------------------------------------------------------\u001b[0m",
      "\u001b[1;31mTypeError\u001b[0m                                 Traceback (most recent call last)",
      "\u001b[1;32m<ipython-input-120-f41dfd3426a4>\u001b[0m in \u001b[0;36m<module>\u001b[1;34m\u001b[0m\n\u001b[0;32m     66\u001b[0m \u001b[1;33m\u001b[0m\u001b[0m\n\u001b[0;32m     67\u001b[0m \u001b[0mls\u001b[0m\u001b[1;33m*\u001b[0m\u001b[0mls2\u001b[0m\u001b[1;33m\u001b[0m\u001b[1;33m\u001b[0m\u001b[0m\n\u001b[1;32m---> 68\u001b[1;33m \u001b[0mmax\u001b[0m\u001b[1;33m(\u001b[0m\u001b[0mls\u001b[0m\u001b[1;33m)\u001b[0m\u001b[1;33m\u001b[0m\u001b[1;33m\u001b[0m\u001b[0m\n\u001b[0m",
      "\u001b[1;31mTypeError\u001b[0m: 'MyList' object is not iterable"
     ]
    }
   ],
   "source": [
    "\n",
    "# https://docs.python.org/3/library/operator.html#mapping-operators-to-functions\n",
    "class MyNumber():\n",
    "    def __init__(self,num):\n",
    "           self.num=num\n",
    "        \n",
    "    def __add__(self, other):\n",
    "        \n",
    "        \"\"\"\n",
    "        sum opetor\n",
    "        \"\"\"\n",
    "        return MyNumber(self.num+other.num)   \n",
    "    \n",
    "    def __str__(self):\n",
    "        return str(self.num)\n",
    "    \n",
    "    def __mul__(self, other):\n",
    "        \"\"\"\n",
    "        mutiplication opearot\n",
    "        \"\"\"\n",
    "        return MyNumber(self.num*other.num)\n",
    "    \n",
    "a = MyNumber(4)\n",
    "b = MyNumber(6)\n",
    "print(type(2))\n",
    "print(a+b)\n",
    "print(a*b)\n",
    "\n",
    "\n",
    "class MyList():\n",
    "    def __init__(self,list):\n",
    "        if type(list) != type([]):\n",
    "            raise ValueError('The variable must to be from type list not from type {} ' .format(type(list)))\n",
    "\n",
    "        self.list=list\n",
    "        \n",
    "    def __str__(self):\n",
    "        return str(self.list)\n",
    "    \n",
    "    def __add__(self, other):\n",
    "        \n",
    "        \"\"\"\n",
    "        sum operator\n",
    "        \"\"\"\n",
    "        return [self.list[i] + other.list[i] for i in range(len(self.list))]  \n",
    " \n",
    "    \n",
    "    def __mul__(self, other):\n",
    "        \"\"\"\n",
    "        mutiplication operator\n",
    "        \"\"\"\n",
    "        \n",
    "        if type(other)==type(self):\n",
    "            return [self.list[i]*other.list[i] for i in range(len(self.list))]  \n",
    "        elif type(other)==type([]): \n",
    "            return [self.list[i]*other[i] for i in range(len(self.list))]   \n",
    "     \n",
    "        return [self.list[i]*float(other) for i in range(len(self.list))]    \n",
    "    \n",
    "    def max(self,other):\n",
    "        return self.list\n",
    "    \n",
    "    \n",
    "\n",
    "        \n",
    "ls = MyList([2,4])   \n",
    "ls2 = MyList([1,4])\n",
    "\n",
    "ls*ls2\n",
    "max(ls)"
   ]
  },
  {
   "cell_type": "code",
   "execution_count": 108,
   "metadata": {},
   "outputs": [
    {
     "name": "stdout",
     "output_type": "stream",
     "text": [
      "[4, 4]\n",
      "[5.0, 20.0]\n"
     ]
    },
    {
     "data": {
      "text/plain": [
       "False"
      ]
     },
     "execution_count": 108,
     "metadata": {},
     "output_type": "execute_result"
    }
   ],
   "source": [
    "z = lambda x,y : (x + y)\n",
    "\n",
    "z(ls,ls2)\n",
    "\n",
    "print(ls*[2,1])\n",
    "print(ls2*5)\n",
    "type(5)==type(int)"
   ]
  },
  {
   "cell_type": "code",
   "execution_count": 117,
   "metadata": {},
   "outputs": [
    {
     "name": "stdout",
     "output_type": "stream",
     "text": [
      "i am a\n",
      "i am g\n"
     ]
    },
    {
     "data": {
      "text/plain": [
       "37909729484"
      ]
     },
     "execution_count": 117,
     "metadata": {},
     "output_type": "execute_result"
    }
   ],
   "source": [
    "### dynamic overiding\n",
    "\n",
    "class A: \n",
    "    def a(self):\n",
    "        print('i am a')\n",
    "\n",
    "    def hash(self):\n",
    "        return 'asda'\n",
    "    \n",
    "a = A()\n",
    "a.a()\n",
    "\n",
    "def g():\n",
    "    print('i am g')\n",
    "\n",
    "a.a = g\n",
    "a.a()\n",
    "hash(a)\n"
   ]
  },
  {
   "cell_type": "code",
   "execution_count": 112,
   "metadata": {},
   "outputs": [
    {
     "data": {
      "text/plain": [
       "[['A', 'A', 'A', 'A', 'A'], ['B', 'B', 'B', 'B']]"
      ]
     },
     "execution_count": 112,
     "metadata": {},
     "output_type": "execute_result"
    }
   ],
   "source": [
    "[\"A A A A A\".split(),\"B B B B\".split()]"
   ]
  },
  {
   "cell_type": "code",
   "execution_count": 134,
   "metadata": {},
   "outputs": [
    {
     "name": "stdout",
     "output_type": "stream",
     "text": [
      "8\n"
     ]
    }
   ],
   "source": [
    "class Infix:\n",
    "    def __init__(self, function):\n",
    "        self.function = function\n",
    "    def __ror__(self, other):\n",
    "        return Infix(lambda x, self=self, other=other: self.function(other, x))\n",
    "    def __or__(self, other):\n",
    "        return self.function(other)\n",
    "    def __rlshift__(self, other):\n",
    "        return Infix(lambda x, self=self, other=other: self.function(other, x))\n",
    "    def __rshift__(self, other):\n",
    "        return self.function(other)\n",
    "    def __call__(self, value1, value2):\n",
    "        return self.function(value1, value2)\n",
    "\n",
    "\n",
    "y=Infix(lambda x,y: x*y)\n",
    "print(2 |y| 4)"
   ]
  },
  {
   "cell_type": "code",
   "execution_count": 126,
   "metadata": {},
   "outputs": [
    {
     "ename": "TypeError",
     "evalue": "unsupported operand type(s) for |: 'int' and 'function'",
     "output_type": "error",
     "traceback": [
      "\u001b[1;31m---------------------------------------------------------------------------\u001b[0m",
      "\u001b[1;31mTypeError\u001b[0m                                 Traceback (most recent call last)",
      "\u001b[1;32m<ipython-input-126-3b63fdb13519>\u001b[0m in \u001b[0;36m<module>\u001b[1;34m\u001b[0m\n\u001b[0;32m      1\u001b[0m \u001b[0msqr\u001b[0m \u001b[1;33m=\u001b[0m \u001b[1;32mlambda\u001b[0m \u001b[0mp\u001b[0m\u001b[1;33m,\u001b[0m\u001b[0mz\u001b[0m \u001b[1;33m:\u001b[0m \u001b[0mp\u001b[0m\u001b[1;33m**\u001b[0m\u001b[1;36m2\u001b[0m\u001b[1;33m\u001b[0m\u001b[1;33m\u001b[0m\u001b[0m\n\u001b[0;32m      2\u001b[0m \u001b[1;33m\u001b[0m\u001b[0m\n\u001b[1;32m----> 3\u001b[1;33m \u001b[0mprint\u001b[0m\u001b[1;33m(\u001b[0m\u001b[1;36m2\u001b[0m \u001b[1;33m|\u001b[0m\u001b[0msqr\u001b[0m\u001b[1;33m|\u001b[0m \u001b[1;36m5\u001b[0m\u001b[1;33m)\u001b[0m\u001b[1;33m\u001b[0m\u001b[1;33m\u001b[0m\u001b[0m\n\u001b[0m",
      "\u001b[1;31mTypeError\u001b[0m: unsupported operand type(s) for |: 'int' and 'function'"
     ]
    }
   ],
   "source": []
  }
 ],
 "metadata": {
  "kernelspec": {
   "display_name": "Python 3",
   "language": "python",
   "name": "python3"
  },
  "language_info": {
   "codemirror_mode": {
    "name": "ipython",
    "version": 3
   },
   "file_extension": ".py",
   "mimetype": "text/x-python",
   "name": "python",
   "nbconvert_exporter": "python",
   "pygments_lexer": "ipython3",
   "version": "3.7.1"
  }
 },
 "nbformat": 4,
 "nbformat_minor": 2
}
